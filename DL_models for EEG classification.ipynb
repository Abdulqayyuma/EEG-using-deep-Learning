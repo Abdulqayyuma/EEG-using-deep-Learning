{
 "cells": [
  {
   "cell_type": "markdown",
   "metadata": {},
   "source": [
    "# Deep Learning Models for classification of EEG dataset\n"
   ]
  },
  {
   "cell_type": "code",
   "execution_count": null,
   "metadata": {},
   "outputs": [],
   "source": [
    "# Prepared By Abdul Qayyum\n",
    "# Date=14-7-2019"
   ]
  },
  {
   "cell_type": "code",
   "execution_count": 1,
   "metadata": {},
   "outputs": [],
   "source": [
    "\n",
    "# Loading the dataset\n",
    "# Dataset is provided in this tutorial. \n",
    "You can process your won dataset and run the model \n",
    "fname = \"EEG Eye State.txt\"\n",
    "with open(fname) as f:\n",
    "    content = f.readlines()\n",
    "\n",
    "content = [x.strip() for x in content] \n",
    "content = [x.split(\",\") for x in content]"
   ]
  },
  {
   "cell_type": "code",
   "execution_count": 2,
   "metadata": {},
   "outputs": [],
   "source": [
    "# Dataset should be converted into numpy array for deep learning models\n",
    "# Converting list to numpy array\n",
    "\n",
    "import numpy as np\n",
    "\n",
    "content = np.array(content, dtype = 'float32')"
   ]
  },
  {
   "cell_type": "code",
   "execution_count": 3,
   "metadata": {},
   "outputs": [],
   "source": [
    "# Shuffling the dataset\n",
    "\n",
    "import random\n",
    "random.shuffle(content)"
   ]
  },
  {
   "cell_type": "code",
   "execution_count": 4,
   "metadata": {},
   "outputs": [],
   "source": [
    "# Creating X and Y\n",
    "x = content[:, :-1]\n",
    "y = np.array(content[:, -1], dtype = 'int32')"
   ]
  },
  {
   "cell_type": "code",
   "execution_count": 5,
   "metadata": {},
   "outputs": [
    {
     "data": {
      "text/plain": [
       "array([4329.23, 4009.23, 4289.23, 4148.21, 4350.26, 4586.15, 4096.92,\n",
       "       4641.03, 4222.05, 4238.46, 4211.28, 4280.51, 4635.9 , 4393.85],\n",
       "      dtype=float32)"
      ]
     },
     "execution_count": 5,
     "metadata": {},
     "output_type": "execute_result"
    }
   ],
   "source": [
    "x[0]"
   ]
  },
  {
   "cell_type": "code",
   "execution_count": 6,
   "metadata": {},
   "outputs": [
    {
     "data": {
      "text/plain": [
       "0"
      ]
     },
     "execution_count": 6,
     "metadata": {},
     "output_type": "execute_result"
    }
   ],
   "source": [
    "y[0]"
   ]
  },
  {
   "cell_type": "markdown",
   "metadata": {},
   "source": [
    "# Normalization of data\n",
    "Normalization of data is required before using it on deep neural Nueral Networks"
   ]
  },
  {
   "cell_type": "code",
   "execution_count": 7,
   "metadata": {},
   "outputs": [],
   "source": [
    "from sklearn.preprocessing import MinMaxScaler\n",
    "scaler = MinMaxScaler()"
   ]
  },
  {
   "cell_type": "code",
   "execution_count": 8,
   "metadata": {},
   "outputs": [],
   "source": [
    "scaler.fit(x)\n",
    "x_new = scaler.transform(x)"
   ]
  },
  {
   "cell_type": "code",
   "execution_count": 9,
   "metadata": {},
   "outputs": [],
   "source": [
    "data_mean = x.mean()\n",
    "data_std = x.std()\n",
    "x = (x - data_mean)/data_std"
   ]
  },
  {
   "cell_type": "code",
   "execution_count": 10,
   "metadata": {},
   "outputs": [],
   "source": [
    "(x_train, x_test) = x[:11000], x[11000:]\n",
    "(y_train, y_test) = y[:11000], y[11000:]"
   ]
  },
  {
   "cell_type": "markdown",
   "metadata": {},
   "source": [
    "# Training on  long short term memory (LSTM) model"
   ]
  },
  {
   "cell_type": "markdown",
   "metadata": {},
   "source": [
    "# Creating 3D array dataset for LSTM model\n",
    "# dataset for lstm and orther 1D signal based on 3D tensor.\n",
    "# you shoudl provide tempral information, number of channel and number of classes\n",
    "# dataset=samplesxfeaturesxchannels\n",
    "# dataset=11000x14x1\n",
    "# number of classes"
   ]
  },
  {
   "cell_type": "code",
   "execution_count": 13,
   "metadata": {},
   "outputs": [],
   "source": [
    "X_train = np.asarray(np.reshape(x_train, (x_train.shape[0], 14, 1)))\n",
    "X_test = np.asarray(np.reshape(x_test, (x_test.shape[0], 14, 1)))"
   ]
  },
  {
   "cell_type": "code",
   "execution_count": 14,
   "metadata": {},
   "outputs": [
    {
     "name": "stderr",
     "output_type": "stream",
     "text": [
      "Using TensorFlow backend.\n"
     ]
    }
   ],
   "source": [
    "from keras.layers import Dense, Dropout, CuDNNLSTM, Embedding, LSTM\n",
    "from keras.models import Sequential"
   ]
  },
  {
   "cell_type": "code",
   "execution_count": 16,
   "metadata": {},
   "outputs": [
    {
     "name": "stderr",
     "output_type": "stream",
     "text": [
      "W0714 10:06:20.872536 10284 deprecation_wrapper.py:119] From C:\\Users\\moona\\Anaconda3\\lib\\site-packages\\keras\\optimizers.py:790: The name tf.train.Optimizer is deprecated. Please use tf.compat.v1.train.Optimizer instead.\n",
      "\n",
      "W0714 10:06:20.885502 10284 deprecation_wrapper.py:119] From C:\\Users\\moona\\Anaconda3\\lib\\site-packages\\keras\\backend\\tensorflow_backend.py:3376: The name tf.log is deprecated. Please use tf.math.log instead.\n",
      "\n",
      "W0714 10:06:20.889492 10284 deprecation.py:323] From C:\\Users\\moona\\Anaconda3\\lib\\site-packages\\tensorflow\\python\\ops\\nn_impl.py:180: add_dispatch_support.<locals>.wrapper (from tensorflow.python.ops.array_ops) is deprecated and will be removed in a future version.\n",
      "Instructions for updating:\n",
      "Use tf.where in 2.0, which has the same broadcast rule as np.where\n"
     ]
    },
    {
     "name": "stdout",
     "output_type": "stream",
     "text": [
      "_________________________________________________________________\n",
      "Layer (type)                 Output Shape              Param #   \n",
      "=================================================================\n",
      "lstm_3 (LSTM)                (None, 14, 256)           264192    \n",
      "_________________________________________________________________\n",
      "lstm_4 (LSTM)                (None, 256)               525312    \n",
      "_________________________________________________________________\n",
      "dense_2 (Dense)              (None, 1)                 257       \n",
      "=================================================================\n",
      "Total params: 789,761\n",
      "Trainable params: 789,761\n",
      "Non-trainable params: 0\n",
      "_________________________________________________________________\n"
     ]
    }
   ],
   "source": [
    "model1 = Sequential()\n",
    "model1.add(LSTM(256,input_shape=(14, 1), return_sequences=True))\n",
    "model1.add(LSTM(256))\n",
    "model1.add(Dense(1, activation='sigmoid'))\n",
    "model1.compile(loss='binary_crossentropy', optimizer='adam', metrics=['accuracy'])\n",
    "model1.summary()"
   ]
  },
  {
   "cell_type": "code",
   "execution_count": 17,
   "metadata": {},
   "outputs": [
    {
     "name": "stderr",
     "output_type": "stream",
     "text": [
      "W0714 10:06:44.772954 10284 deprecation_wrapper.py:119] From C:\\Users\\moona\\Anaconda3\\lib\\site-packages\\keras\\backend\\tensorflow_backend.py:986: The name tf.assign_add is deprecated. Please use tf.compat.v1.assign_add instead.\n",
      "\n"
     ]
    },
    {
     "name": "stdout",
     "output_type": "stream",
     "text": [
      "Train on 9900 samples, validate on 1100 samples\n",
      "Epoch 1/100\n",
      " - 8s - loss: 0.6915 - acc: 0.5228 - val_loss: 0.7011 - val_acc: 0.4909\n",
      "\n",
      "Epoch 00001: val_loss improved from inf to 0.70114, saving model to LSTM.weights.best.hdf5\n",
      "Epoch 2/100\n",
      " - 7s - loss: 0.6896 - acc: 0.5333 - val_loss: 0.6876 - val_acc: 0.5282\n",
      "\n",
      "Epoch 00002: val_loss improved from 0.70114 to 0.68760, saving model to LSTM.weights.best.hdf5\n",
      "Epoch 3/100\n",
      " - 7s - loss: 0.6680 - acc: 0.5997 - val_loss: 0.6747 - val_acc: 0.5291\n",
      "\n",
      "Epoch 00003: val_loss improved from 0.68760 to 0.67472, saving model to LSTM.weights.best.hdf5\n",
      "Epoch 4/100\n",
      " - 7s - loss: 0.6453 - acc: 0.6363 - val_loss: 0.6649 - val_acc: 0.5482\n",
      "\n",
      "Epoch 00004: val_loss improved from 0.67472 to 0.66485, saving model to LSTM.weights.best.hdf5\n",
      "Epoch 5/100\n",
      " - 7s - loss: 0.6455 - acc: 0.6152 - val_loss: 0.6768 - val_acc: 0.5518\n",
      "\n",
      "Epoch 00005: val_loss did not improve from 0.66485\n",
      "Epoch 6/100\n",
      " - 7s - loss: 0.6160 - acc: 0.6815 - val_loss: 0.7218 - val_acc: 0.5773\n",
      "\n",
      "Epoch 00006: val_loss did not improve from 0.66485\n",
      "Epoch 7/100\n",
      " - 7s - loss: 0.6001 - acc: 0.6713 - val_loss: 0.6417 - val_acc: 0.5800\n",
      "\n",
      "Epoch 00007: val_loss improved from 0.66485 to 0.64171, saving model to LSTM.weights.best.hdf5\n",
      "Epoch 8/100\n",
      " - 7s - loss: 0.6468 - acc: 0.6321 - val_loss: 0.6569 - val_acc: 0.5455\n",
      "\n",
      "Epoch 00008: val_loss did not improve from 0.64171\n",
      "Epoch 9/100\n",
      " - 7s - loss: 0.6258 - acc: 0.6418 - val_loss: 0.6744 - val_acc: 0.5927\n",
      "\n",
      "Epoch 00009: val_loss did not improve from 0.64171\n",
      "Epoch 10/100\n",
      " - 7s - loss: 0.6124 - acc: 0.6551 - val_loss: 0.6347 - val_acc: 0.5891\n",
      "\n",
      "Epoch 00010: val_loss improved from 0.64171 to 0.63466, saving model to LSTM.weights.best.hdf5\n",
      "Epoch 11/100\n",
      " - 8s - loss: 0.6053 - acc: 0.6565 - val_loss: 0.6317 - val_acc: 0.6082\n",
      "\n",
      "Epoch 00011: val_loss improved from 0.63466 to 0.63169, saving model to LSTM.weights.best.hdf5\n",
      "Epoch 12/100\n",
      " - 8s - loss: 0.5873 - acc: 0.6766 - val_loss: 0.6237 - val_acc: 0.6291\n",
      "\n",
      "Epoch 00012: val_loss improved from 0.63169 to 0.62368, saving model to LSTM.weights.best.hdf5\n",
      "Epoch 13/100\n",
      " - 8s - loss: 0.5617 - acc: 0.7134 - val_loss: 0.6145 - val_acc: 0.6673\n",
      "\n",
      "Epoch 00013: val_loss improved from 0.62368 to 0.61454, saving model to LSTM.weights.best.hdf5\n",
      "Epoch 14/100\n",
      " - 8s - loss: 0.5750 - acc: 0.7099 - val_loss: 0.6183 - val_acc: 0.5909\n",
      "\n",
      "Epoch 00014: val_loss did not improve from 0.61454\n",
      "Epoch 15/100\n",
      " - 8s - loss: 0.5773 - acc: 0.6894 - val_loss: 0.6263 - val_acc: 0.6118\n",
      "\n",
      "Epoch 00015: val_loss did not improve from 0.61454\n",
      "Epoch 16/100\n",
      " - 8s - loss: 0.5891 - acc: 0.6766 - val_loss: 0.6207 - val_acc: 0.6445\n",
      "\n",
      "Epoch 00016: val_loss did not improve from 0.61454\n",
      "Epoch 17/100\n",
      " - 8s - loss: 0.5802 - acc: 0.6849 - val_loss: 0.6345 - val_acc: 0.6282\n",
      "\n",
      "Epoch 00017: val_loss did not improve from 0.61454\n",
      "Epoch 18/100\n",
      " - 8s - loss: 0.5364 - acc: 0.7412 - val_loss: 0.6621 - val_acc: 0.6655\n",
      "\n",
      "Epoch 00018: val_loss did not improve from 0.61454\n",
      "Epoch 19/100\n",
      " - 7s - loss: 0.6000 - acc: 0.6692 - val_loss: 0.6215 - val_acc: 0.6355\n",
      "\n",
      "Epoch 00019: val_loss did not improve from 0.61454\n",
      "Epoch 20/100\n",
      " - 8s - loss: 0.5363 - acc: 0.7315 - val_loss: 0.6498 - val_acc: 0.6264\n",
      "\n",
      "Epoch 00020: val_loss did not improve from 0.61454\n",
      "Epoch 21/100\n",
      " - 8s - loss: 0.5565 - acc: 0.6957 - val_loss: 0.6058 - val_acc: 0.6527\n",
      "\n",
      "Epoch 00021: val_loss improved from 0.61454 to 0.60575, saving model to LSTM.weights.best.hdf5\n",
      "Epoch 22/100\n",
      " - 8s - loss: 0.5183 - acc: 0.7372 - val_loss: 0.6067 - val_acc: 0.6745\n",
      "\n",
      "Epoch 00022: val_loss did not improve from 0.60575\n",
      "Epoch 23/100\n",
      " - 8s - loss: 0.5405 - acc: 0.7308 - val_loss: 0.7116 - val_acc: 0.4891\n",
      "\n",
      "Epoch 00023: val_loss did not improve from 0.60575\n",
      "Epoch 24/100\n",
      " - 8s - loss: 0.7065 - acc: 0.5056 - val_loss: 0.6911 - val_acc: 0.5891\n",
      "\n",
      "Epoch 00024: val_loss did not improve from 0.60575\n",
      "Epoch 25/100\n",
      " - 8s - loss: 0.6842 - acc: 0.5648 - val_loss: 0.6857 - val_acc: 0.5055\n",
      "\n",
      "Epoch 00025: val_loss did not improve from 0.60575\n",
      "Epoch 26/100\n",
      " - 8s - loss: 0.6745 - acc: 0.5803 - val_loss: 0.6859 - val_acc: 0.5627\n",
      "\n",
      "Epoch 00026: val_loss did not improve from 0.60575\n",
      "Epoch 27/100\n",
      " - 8s - loss: 0.6576 - acc: 0.6289 - val_loss: 0.6807 - val_acc: 0.5227\n",
      "\n",
      "Epoch 00027: val_loss did not improve from 0.60575\n",
      "Epoch 28/100\n",
      " - 8s - loss: 0.6589 - acc: 0.6111 - val_loss: 0.6727 - val_acc: 0.5418\n",
      "\n",
      "Epoch 00028: val_loss did not improve from 0.60575\n",
      "Epoch 29/100\n",
      " - 8s - loss: 0.6522 - acc: 0.6334 - val_loss: 0.7112 - val_acc: 0.5273\n",
      "\n",
      "Epoch 00029: val_loss did not improve from 0.60575\n",
      "Epoch 30/100\n",
      " - 8s - loss: 0.6570 - acc: 0.6135 - val_loss: 0.6655 - val_acc: 0.5445\n",
      "\n",
      "Epoch 00030: val_loss did not improve from 0.60575\n",
      "Epoch 31/100\n",
      " - 8s - loss: 0.6222 - acc: 0.6767 - val_loss: 0.6413 - val_acc: 0.6445\n",
      "\n",
      "Epoch 00031: val_loss did not improve from 0.60575\n",
      "Epoch 32/100\n",
      " - 8s - loss: 0.6263 - acc: 0.6347 - val_loss: 0.6606 - val_acc: 0.6418\n",
      "\n",
      "Epoch 00032: val_loss did not improve from 0.60575\n",
      "Epoch 33/100\n",
      " - 8s - loss: 0.5884 - acc: 0.7072 - val_loss: 0.6277 - val_acc: 0.6464\n",
      "\n",
      "Epoch 00033: val_loss did not improve from 0.60575\n",
      "Epoch 34/100\n",
      " - 8s - loss: 0.6234 - acc: 0.6391 - val_loss: 0.6479 - val_acc: 0.6745\n",
      "\n",
      "Epoch 00034: val_loss did not improve from 0.60575\n",
      "Epoch 35/100\n",
      " - 8s - loss: 0.5874 - acc: 0.7069 - val_loss: 0.6211 - val_acc: 0.6255\n",
      "\n",
      "Epoch 00035: val_loss did not improve from 0.60575\n",
      "Epoch 36/100\n",
      " - 8s - loss: 0.5601 - acc: 0.7264 - val_loss: 0.6229 - val_acc: 0.6755\n",
      "\n",
      "Epoch 00036: val_loss did not improve from 0.60575\n",
      "Epoch 37/100\n",
      " - 8s - loss: 0.5782 - acc: 0.7007 - val_loss: 0.6165 - val_acc: 0.6427\n",
      "\n",
      "Epoch 00037: val_loss did not improve from 0.60575\n",
      "Epoch 38/100\n",
      " - 7s - loss: 0.5503 - acc: 0.7327 - val_loss: 0.6065 - val_acc: 0.6809\n",
      "\n",
      "Epoch 00038: val_loss did not improve from 0.60575\n",
      "Epoch 39/100\n",
      " - 8s - loss: 0.5347 - acc: 0.7420 - val_loss: 0.6063 - val_acc: 0.6755\n",
      "\n",
      "Epoch 00039: val_loss did not improve from 0.60575\n",
      "Epoch 40/100\n",
      " - 8s - loss: 0.5143 - acc: 0.7553 - val_loss: 0.5911 - val_acc: 0.6791\n",
      "\n",
      "Epoch 00040: val_loss improved from 0.60575 to 0.59110, saving model to LSTM.weights.best.hdf5\n",
      "Epoch 41/100\n",
      " - 7s - loss: 0.5188 - acc: 0.7387 - val_loss: 0.6507 - val_acc: 0.6091\n",
      "\n",
      "Epoch 00041: val_loss did not improve from 0.59110\n",
      "Epoch 42/100\n",
      " - 8s - loss: 0.5027 - acc: 0.7420 - val_loss: 0.6265 - val_acc: 0.6273\n",
      "\n",
      "Epoch 00042: val_loss did not improve from 0.59110\n",
      "Epoch 43/100\n",
      " - 8s - loss: 0.4795 - acc: 0.7589 - val_loss: 0.5549 - val_acc: 0.6936\n",
      "\n",
      "Epoch 00043: val_loss improved from 0.59110 to 0.55486, saving model to LSTM.weights.best.hdf5\n",
      "Epoch 44/100\n",
      " - 8s - loss: 0.4622 - acc: 0.7707 - val_loss: 0.5461 - val_acc: 0.7055\n",
      "\n",
      "Epoch 00044: val_loss improved from 0.55486 to 0.54611, saving model to LSTM.weights.best.hdf5\n",
      "Epoch 45/100\n",
      " - 8s - loss: 0.4652 - acc: 0.7737 - val_loss: 0.5557 - val_acc: 0.7082\n",
      "\n",
      "Epoch 00045: val_loss did not improve from 0.54611\n",
      "Epoch 46/100\n",
      " - 8s - loss: 0.4858 - acc: 0.7557 - val_loss: 0.5986 - val_acc: 0.6836\n",
      "\n",
      "Epoch 00046: val_loss did not improve from 0.54611\n",
      "Epoch 47/100\n",
      " - 8s - loss: 0.4644 - acc: 0.7716 - val_loss: 0.5276 - val_acc: 0.7282\n",
      "\n",
      "Epoch 00047: val_loss improved from 0.54611 to 0.52762, saving model to LSTM.weights.best.hdf5\n",
      "Epoch 48/100\n",
      " - 8s - loss: 0.4404 - acc: 0.7923 - val_loss: 0.6217 - val_acc: 0.6755\n",
      "\n",
      "Epoch 00048: val_loss did not improve from 0.52762\n",
      "Epoch 49/100\n",
      " - 8s - loss: 0.4657 - acc: 0.7700 - val_loss: 0.5274 - val_acc: 0.7291\n",
      "\n",
      "Epoch 00049: val_loss improved from 0.52762 to 0.52740, saving model to LSTM.weights.best.hdf5\n",
      "Epoch 50/100\n",
      " - 8s - loss: 0.4229 - acc: 0.7989 - val_loss: 0.5498 - val_acc: 0.7045\n",
      "\n",
      "Epoch 00050: val_loss did not improve from 0.52740\n",
      "Epoch 51/100\n",
      " - 8s - loss: 0.4229 - acc: 0.8009 - val_loss: 0.5274 - val_acc: 0.7164\n",
      "\n",
      "Epoch 00051: val_loss improved from 0.52740 to 0.52738, saving model to LSTM.weights.best.hdf5\n",
      "Epoch 52/100\n",
      " - 8s - loss: 0.4431 - acc: 0.7817 - val_loss: 0.5756 - val_acc: 0.7118\n",
      "\n",
      "Epoch 00052: val_loss did not improve from 0.52738\n",
      "Epoch 53/100\n",
      " - 8s - loss: 0.4415 - acc: 0.7859 - val_loss: 0.5284 - val_acc: 0.7236\n",
      "\n",
      "Epoch 00053: val_loss did not improve from 0.52738\n",
      "Epoch 54/100\n",
      " - 8s - loss: 0.4099 - acc: 0.8072 - val_loss: 0.5251 - val_acc: 0.7318\n",
      "\n",
      "Epoch 00054: val_loss improved from 0.52738 to 0.52507, saving model to LSTM.weights.best.hdf5\n",
      "Epoch 55/100\n"
     ]
    },
    {
     "name": "stdout",
     "output_type": "stream",
     "text": [
      " - 8s - loss: 0.4203 - acc: 0.8017 - val_loss: 0.5623 - val_acc: 0.7082\n",
      "\n",
      "Epoch 00055: val_loss did not improve from 0.52507\n",
      "Epoch 56/100\n",
      " - 8s - loss: 0.4306 - acc: 0.7930 - val_loss: 0.5636 - val_acc: 0.7318\n",
      "\n",
      "Epoch 00056: val_loss did not improve from 0.52507\n",
      "Epoch 57/100\n",
      " - 8s - loss: 0.4129 - acc: 0.8077 - val_loss: 0.5946 - val_acc: 0.6727\n",
      "\n",
      "Epoch 00057: val_loss did not improve from 0.52507\n",
      "Epoch 58/100\n",
      " - 8s - loss: 0.4267 - acc: 0.7929 - val_loss: 0.5476 - val_acc: 0.7209\n",
      "\n",
      "Epoch 00058: val_loss did not improve from 0.52507\n",
      "Epoch 59/100\n",
      " - 8s - loss: 0.4217 - acc: 0.7956 - val_loss: 0.5062 - val_acc: 0.7391\n",
      "\n",
      "Epoch 00059: val_loss improved from 0.52507 to 0.50621, saving model to LSTM.weights.best.hdf5\n",
      "Epoch 60/100\n",
      " - 8s - loss: 0.3986 - acc: 0.8135 - val_loss: 0.5230 - val_acc: 0.7482\n",
      "\n",
      "Epoch 00060: val_loss did not improve from 0.50621\n",
      "Epoch 61/100\n",
      " - 8s - loss: 0.4053 - acc: 0.8086 - val_loss: 0.5262 - val_acc: 0.7436\n",
      "\n",
      "Epoch 00061: val_loss did not improve from 0.50621\n",
      "Epoch 62/100\n",
      " - 8s - loss: 0.3948 - acc: 0.8175 - val_loss: 0.5491 - val_acc: 0.7100\n",
      "\n",
      "Epoch 00062: val_loss did not improve from 0.50621\n",
      "Epoch 63/100\n",
      " - 8s - loss: 0.4009 - acc: 0.8128 - val_loss: 0.6121 - val_acc: 0.7082\n",
      "\n",
      "Epoch 00063: val_loss did not improve from 0.50621\n",
      "Epoch 64/100\n",
      " - 8s - loss: 0.4268 - acc: 0.7992 - val_loss: 0.5777 - val_acc: 0.7073\n",
      "\n",
      "Epoch 00064: val_loss did not improve from 0.50621\n",
      "Epoch 65/100\n",
      " - 8s - loss: 0.4033 - acc: 0.8107 - val_loss: 0.5169 - val_acc: 0.7427\n",
      "\n",
      "Epoch 00065: val_loss did not improve from 0.50621\n",
      "Epoch 66/100\n",
      " - 8s - loss: 0.3916 - acc: 0.8183 - val_loss: 0.5664 - val_acc: 0.7227\n",
      "\n",
      "Epoch 00066: val_loss did not improve from 0.50621\n",
      "Epoch 67/100\n",
      " - 8s - loss: 0.3957 - acc: 0.8130 - val_loss: 0.5201 - val_acc: 0.7364\n",
      "\n",
      "Epoch 00067: val_loss did not improve from 0.50621\n",
      "Epoch 68/100\n",
      " - 8s - loss: 0.3825 - acc: 0.8198 - val_loss: 0.5324 - val_acc: 0.7436\n",
      "\n",
      "Epoch 00068: val_loss did not improve from 0.50621\n",
      "Epoch 69/100\n",
      " - 8s - loss: 0.3833 - acc: 0.8194 - val_loss: 0.5104 - val_acc: 0.7364\n",
      "\n",
      "Epoch 00069: val_loss did not improve from 0.50621\n",
      "Epoch 70/100\n",
      " - 8s - loss: 0.3851 - acc: 0.8165 - val_loss: 0.5221 - val_acc: 0.7409\n",
      "\n",
      "Epoch 00070: val_loss did not improve from 0.50621\n",
      "Epoch 71/100\n",
      " - 8s - loss: 0.3789 - acc: 0.8217 - val_loss: 0.4980 - val_acc: 0.7509\n",
      "\n",
      "Epoch 00071: val_loss improved from 0.50621 to 0.49805, saving model to LSTM.weights.best.hdf5\n",
      "Epoch 72/100\n",
      " - 8s - loss: 0.3839 - acc: 0.8212 - val_loss: 0.5342 - val_acc: 0.7300\n",
      "\n",
      "Epoch 00072: val_loss did not improve from 0.49805\n",
      "Epoch 73/100\n",
      " - 7s - loss: 0.3839 - acc: 0.8217 - val_loss: 0.5006 - val_acc: 0.7400\n",
      "\n",
      "Epoch 00073: val_loss did not improve from 0.49805\n",
      "Epoch 74/100\n",
      " - 8s - loss: 0.3706 - acc: 0.8264 - val_loss: 0.5011 - val_acc: 0.7427\n",
      "\n",
      "Epoch 00074: val_loss did not improve from 0.49805\n",
      "Epoch 75/100\n",
      " - 8s - loss: 0.3918 - acc: 0.8133 - val_loss: 0.5142 - val_acc: 0.7473\n",
      "\n",
      "Epoch 00075: val_loss did not improve from 0.49805\n",
      "Epoch 76/100\n",
      " - 8s - loss: 0.3665 - acc: 0.8326 - val_loss: 0.5208 - val_acc: 0.7600\n",
      "\n",
      "Epoch 00076: val_loss did not improve from 0.49805\n",
      "Epoch 77/100\n",
      " - 8s - loss: 0.3506 - acc: 0.8444 - val_loss: 0.5182 - val_acc: 0.7509\n",
      "\n",
      "Epoch 00077: val_loss did not improve from 0.49805\n",
      "Epoch 78/100\n",
      " - 8s - loss: 0.3543 - acc: 0.8403 - val_loss: 0.5159 - val_acc: 0.7464\n",
      "\n",
      "Epoch 00078: val_loss did not improve from 0.49805\n",
      "Epoch 79/100\n",
      " - 8s - loss: 0.4200 - acc: 0.7980 - val_loss: 0.5585 - val_acc: 0.7036\n",
      "\n",
      "Epoch 00079: val_loss did not improve from 0.49805\n",
      "Epoch 80/100\n",
      " - 8s - loss: 0.4045 - acc: 0.8131 - val_loss: 0.5354 - val_acc: 0.7364\n",
      "\n",
      "Epoch 00080: val_loss did not improve from 0.49805\n",
      "Epoch 81/100\n",
      " - 8s - loss: 0.3953 - acc: 0.8143 - val_loss: 0.5422 - val_acc: 0.7218\n",
      "\n",
      "Epoch 00081: val_loss did not improve from 0.49805\n",
      "Epoch 82/100\n",
      " - 8s - loss: 0.3752 - acc: 0.8273 - val_loss: 0.5231 - val_acc: 0.7418\n",
      "\n",
      "Epoch 00082: val_loss did not improve from 0.49805\n",
      "Epoch 83/100\n",
      " - 12s - loss: 0.3858 - acc: 0.8222 - val_loss: 0.6047 - val_acc: 0.6655\n",
      "\n",
      "Epoch 00083: val_loss did not improve from 0.49805\n",
      "Epoch 84/100\n",
      " - 11s - loss: 0.4023 - acc: 0.8132 - val_loss: 0.5409 - val_acc: 0.7291\n",
      "\n",
      "Epoch 00084: val_loss did not improve from 0.49805\n",
      "Epoch 85/100\n",
      " - 11s - loss: 0.3707 - acc: 0.8323 - val_loss: 0.5435 - val_acc: 0.7464\n",
      "\n",
      "Epoch 00085: val_loss did not improve from 0.49805\n",
      "Epoch 86/100\n",
      " - 12s - loss: 0.3728 - acc: 0.8299 - val_loss: 0.5486 - val_acc: 0.7209\n",
      "\n",
      "Epoch 00086: val_loss did not improve from 0.49805\n",
      "Epoch 87/100\n",
      " - 12s - loss: 0.3635 - acc: 0.8339 - val_loss: 0.5314 - val_acc: 0.7527\n",
      "\n",
      "Epoch 00087: val_loss did not improve from 0.49805\n",
      "Epoch 88/100\n",
      " - 11s - loss: 0.3572 - acc: 0.8396 - val_loss: 0.5337 - val_acc: 0.7518\n",
      "\n",
      "Epoch 00088: val_loss did not improve from 0.49805\n",
      "Epoch 89/100\n",
      " - 11s - loss: 0.3355 - acc: 0.8528 - val_loss: 0.5386 - val_acc: 0.7436\n",
      "\n",
      "Epoch 00089: val_loss did not improve from 0.49805\n",
      "Epoch 90/100\n",
      " - 11s - loss: 0.3550 - acc: 0.8375 - val_loss: 0.5825 - val_acc: 0.7327\n",
      "\n",
      "Epoch 00090: val_loss did not improve from 0.49805\n",
      "Epoch 91/100\n",
      " - 11s - loss: 0.3509 - acc: 0.8432 - val_loss: 0.5687 - val_acc: 0.7318\n",
      "\n",
      "Epoch 00091: val_loss did not improve from 0.49805\n",
      "Epoch 92/100\n",
      " - 11s - loss: 0.3716 - acc: 0.8318 - val_loss: 0.5146 - val_acc: 0.7600\n",
      "\n",
      "Epoch 00092: val_loss did not improve from 0.49805\n",
      "Epoch 93/100\n",
      " - 11s - loss: 0.3340 - acc: 0.8567 - val_loss: 0.5085 - val_acc: 0.7482\n",
      "\n",
      "Epoch 00093: val_loss did not improve from 0.49805\n",
      "Epoch 94/100\n",
      " - 11s - loss: 0.3240 - acc: 0.8563 - val_loss: 0.5389 - val_acc: 0.7418\n",
      "\n",
      "Epoch 00094: val_loss did not improve from 0.49805\n",
      "Epoch 95/100\n",
      " - 11s - loss: 0.3484 - acc: 0.8460 - val_loss: 0.5948 - val_acc: 0.7173\n",
      "\n",
      "Epoch 00095: val_loss did not improve from 0.49805\n",
      "Epoch 96/100\n",
      " - 12s - loss: 0.3399 - acc: 0.8467 - val_loss: 0.5641 - val_acc: 0.7382\n",
      "\n",
      "Epoch 00096: val_loss did not improve from 0.49805\n",
      "Epoch 97/100\n",
      " - 12s - loss: 0.3399 - acc: 0.8497 - val_loss: 0.5064 - val_acc: 0.7464\n",
      "\n",
      "Epoch 00097: val_loss did not improve from 0.49805\n",
      "Epoch 98/100\n",
      " - 12s - loss: 0.3282 - acc: 0.8522 - val_loss: 0.5117 - val_acc: 0.7600\n",
      "\n",
      "Epoch 00098: val_loss did not improve from 0.49805\n",
      "Epoch 99/100\n",
      " - 11s - loss: 0.3463 - acc: 0.8425 - val_loss: 0.5101 - val_acc: 0.7718\n",
      "\n",
      "Epoch 00099: val_loss did not improve from 0.49805\n",
      "Epoch 100/100\n",
      " - 11s - loss: 0.3103 - acc: 0.8614 - val_loss: 0.5328 - val_acc: 0.7445\n",
      "\n",
      "Epoch 00100: val_loss did not improve from 0.49805\n"
     ]
    }
   ],
   "source": [
    "from keras.callbacks import ModelCheckpoint\n",
    "\n",
    "checkpointer = ModelCheckpoint(filepath = 'LSTM.weights.best.hdf5', verbose = 1, save_best_only = True)\n",
    "hist = model1.fit(X_train, y_train, epochs = 100, batch_size=256, validation_split = 0.1, callbacks = [checkpointer], verbose = 2, shuffle = True)"
   ]
  },
  {
   "cell_type": "code",
   "execution_count": 21,
   "metadata": {},
   "outputs": [
    {
     "data": {
      "image/png": "[encoded data removed]",
      "text/plain": [
       "<Figure size 432x288 with 1 Axes>"
      ]
     },
     "metadata": {
      "needs_background": "light"
     },
     "output_type": "display_data"
    }
   ],
   "source": [
    "import matplotlib.pyplot as plt\n",
    "# summarize history for accuracy and loss\n",
    "plt.figure(figsize=(6, 4))\n",
    "plt.plot(hist.history['acc'], \"g--\", label=\"Accuracy of training data\")\n",
    "plt.plot(hist.history['val_acc'], \"g\", label=\"Accuracy of validation data\")\n",
    "plt.plot(hist.history['loss'], \"r--\", label=\"Loss of training data\")\n",
    "plt.plot(hist.history['val_loss'], \"r\", label=\"Loss of validation data\")\n",
    "plt.title('Model Accuracy and Loss')\n",
    "plt.ylabel('Accuracy and Loss')\n",
    "plt.xlabel('Training Epoch')\n",
    "plt.ylim(0)\n",
    "plt.legend()\n",
    "plt.show()"
   ]
  },
  {
   "cell_type": "code",
   "execution_count": 22,
   "metadata": {},
   "outputs": [
    {
     "name": "stdout",
     "output_type": "stream",
     "text": [
      "3980/3980 [==============================] - 2s 448us/step\n",
      "Accuracy:  0.714824120603015\n"
     ]
    }
   ],
   "source": [
    "score = model1.evaluate(X_test, y_test, verbose=1)\n",
    "print(\"Accuracy: \", score[1])"
   ]
  },
  {
   "cell_type": "code",
   "execution_count": 25,
   "metadata": {},
   "outputs": [],
   "source": [
    "from sklearn import metrics"
   ]
  },
  {
   "cell_type": "code",
   "execution_count": 26,
   "metadata": {},
   "outputs": [],
   "source": [
    "predict1 =  [1 if a>0.5 else 0 for a in model1.predict(X_test)]"
   ]
  },
  {
   "cell_type": "code",
   "execution_count": 27,
   "metadata": {},
   "outputs": [
    {
     "name": "stdout",
     "output_type": "stream",
     "text": [
      "Accuracy = 0.714824120603015\n",
      "Precision = 0.767266395821242\n",
      "Recall = 0.6429961089494164\n",
      "F1 Score = 0.6996559936491135\n"
     ]
    }
   ],
   "source": [
    "print(\"Accuracy = {}\\nPrecision = {}\\nRecall = {}\\nF1 Score = {}\".format(metrics.accuracy_score(y_test, predict1), metrics.precision_score(y_test, predict1),metrics.recall_score(y_test, predict1),metrics.f1_score(y_test, predict1)))\n"
   ]
  },
  {
   "cell_type": "markdown",
   "metadata": {},
   "source": [
    "# Another Model  based on 1DCNN architecture"
   ]
  },
  {
   "cell_type": "code",
   "execution_count": 11,
   "metadata": {},
   "outputs": [
    {
     "name": "stderr",
     "output_type": "stream",
     "text": [
      "Using TensorFlow backend.\n"
     ]
    }
   ],
   "source": [
    "from sklearn import metrics\n",
    "from sklearn.metrics import classification_report\n",
    "from sklearn import preprocessing\n",
    "\n",
    "import keras\n",
    "from keras.models import Sequential\n",
    "from keras.layers import Dense, Dropout, Flatten, Reshape, GlobalAveragePooling1D\n",
    "from keras.layers import Conv2D, MaxPooling2D, Conv1D, MaxPooling1D\n",
    "from keras.utils import np_utils\n",
    "from keras.models import Sequential\n",
    "from keras.layers import Reshape, Conv1D, MaxPooling1D, GlobalAveragePooling1D, Dropout, Dense\n",
    "import matplotlib.pyplot as plt"
   ]
  },
  {
   "cell_type": "code",
   "execution_count": 12,
   "metadata": {},
   "outputs": [],
   "source": [
    "# same dataset used in this model\n",
    "X_train = np.asarray(np.reshape(x_train, (x_train.shape[0], 14, 1)))\n",
    "X_test = np.asarray(np.reshape(x_test, (x_test.shape[0], 14, 1)))"
   ]
  },
  {
   "cell_type": "code",
   "execution_count": 13,
   "metadata": {},
   "outputs": [
    {
     "data": {
      "text/plain": [
       "1"
      ]
     },
     "execution_count": 13,
     "metadata": {},
     "output_type": "execute_result"
    }
   ],
   "source": [
    "temporal_dimension = X_train.shape[1]\n",
    "num_channels =X_train.shape[2]\n",
    "num_classes = 2\n",
    "X_train.shape[2]"
   ]
  },
  {
   "cell_type": "code",
   "execution_count": 14,
   "metadata": {},
   "outputs": [
    {
     "name": "stdout",
     "output_type": "stream",
     "text": [
      "(11000, 14, 1)\n"
     ]
    }
   ],
   "source": [
    "print(X_train.shape)"
   ]
  },
  {
   "cell_type": "code",
   "execution_count": 15,
   "metadata": {},
   "outputs": [
    {
     "data": {
      "text/plain": [
       "14"
      ]
     },
     "execution_count": 15,
     "metadata": {},
     "output_type": "execute_result"
    }
   ],
   "source": [
    "temporal_dimension"
   ]
  },
  {
   "cell_type": "code",
   "execution_count": 16,
   "metadata": {},
   "outputs": [
    {
     "name": "stdout",
     "output_type": "stream",
     "text": [
      "1\n"
     ]
    }
   ],
   "source": [
    "num_channels =X_train.shape[2]\n",
    "print(num_channels)"
   ]
  },
  {
   "cell_type": "code",
   "execution_count": 17,
   "metadata": {},
   "outputs": [],
   "source": [
    "input_shape = temporal_dimension"
   ]
  },
  {
   "cell_type": "code",
   "execution_count": 18,
   "metadata": {},
   "outputs": [
    {
     "name": "stderr",
     "output_type": "stream",
     "text": [
      "WARNING: Logging before flag parsing goes to stderr.\n",
      "W0714 11:20:04.142014 23568 deprecation_wrapper.py:119] From C:\\Users\\moona\\Anaconda3\\lib\\site-packages\\keras\\backend\\tensorflow_backend.py:74: The name tf.get_default_graph is deprecated. Please use tf.compat.v1.get_default_graph instead.\n",
      "\n",
      "W0714 11:20:04.161777 23568 deprecation_wrapper.py:119] From C:\\Users\\moona\\Anaconda3\\lib\\site-packages\\keras\\backend\\tensorflow_backend.py:517: The name tf.placeholder is deprecated. Please use tf.compat.v1.placeholder instead.\n",
      "\n",
      "W0714 11:20:04.163298 23568 deprecation_wrapper.py:119] From C:\\Users\\moona\\Anaconda3\\lib\\site-packages\\keras\\backend\\tensorflow_backend.py:4138: The name tf.random_uniform is deprecated. Please use tf.random.uniform instead.\n",
      "\n",
      "W0714 11:20:04.197792 23568 deprecation_wrapper.py:119] From C:\\Users\\moona\\Anaconda3\\lib\\site-packages\\keras\\backend\\tensorflow_backend.py:3976: The name tf.nn.max_pool is deprecated. Please use tf.nn.max_pool2d instead.\n",
      "\n",
      "W0714 11:20:04.243375 23568 deprecation_wrapper.py:119] From C:\\Users\\moona\\Anaconda3\\lib\\site-packages\\keras\\backend\\tensorflow_backend.py:133: The name tf.placeholder_with_default is deprecated. Please use tf.compat.v1.placeholder_with_default instead.\n",
      "\n",
      "W0714 11:20:04.253115 23568 deprecation.py:506] From C:\\Users\\moona\\Anaconda3\\lib\\site-packages\\keras\\backend\\tensorflow_backend.py:3445: calling dropout (from tensorflow.python.ops.nn_ops) with keep_prob is deprecated and will be removed in a future version.\n",
      "Instructions for updating:\n",
      "Please use `rate` instead of `keep_prob`. Rate should be set to `rate = 1 - keep_prob`.\n"
     ]
    },
    {
     "name": "stdout",
     "output_type": "stream",
     "text": [
      "_________________________________________________________________\n",
      "Layer (type)                 Output Shape              Param #   \n",
      "=================================================================\n",
      "conv1d_1 (Conv1D)            (None, 13, 100)           300       \n",
      "_________________________________________________________________\n",
      "conv1d_2 (Conv1D)            (None, 12, 100)           20100     \n",
      "_________________________________________________________________\n",
      "max_pooling1d_1 (MaxPooling1 (None, 4, 100)            0         \n",
      "_________________________________________________________________\n",
      "conv1d_3 (Conv1D)            (None, 3, 160)            32160     \n",
      "_________________________________________________________________\n",
      "conv1d_4 (Conv1D)            (None, 2, 160)            51360     \n",
      "_________________________________________________________________\n",
      "global_average_pooling1d_1 ( (None, 160)               0         \n",
      "_________________________________________________________________\n",
      "dropout_1 (Dropout)          (None, 160)               0         \n",
      "_________________________________________________________________\n",
      "dense_1 (Dense)              (None, 2)                 322       \n",
      "=================================================================\n",
      "Total params: 104,242\n",
      "Trainable params: 104,242\n",
      "Non-trainable params: 0\n",
      "_________________________________________________________________\n",
      "None\n"
     ]
    }
   ],
   "source": [
    "model = Sequential()\n",
    "model.add(Conv1D(100,2, activation='relu', input_shape=(temporal_dimension, num_channels)))\n",
    "model.add(Conv1D(100, 2, activation='relu'))\n",
    "model.add(MaxPooling1D(3))\n",
    "model.add(Conv1D(160, 2, activation='relu'))\n",
    "model.add(Conv1D(160, 2, activation='relu'))\n",
    "model.add(GlobalAveragePooling1D())\n",
    "#model.add(Dense(100, activation='relu'))\n",
    "model.add(Dropout(0.1))\n",
    "model.add(Dense(num_classes, activation='sigmoid'))\n",
    "print(model.summary())"
   ]
  },
  {
   "cell_type": "code",
   "execution_count": 19,
   "metadata": {},
   "outputs": [],
   "source": [
    "# labels converted into categorail for two classes \n",
    "y_train = np_utils.to_categorical(y_train, num_classes)"
   ]
  },
  {
   "cell_type": "code",
   "execution_count": 20,
   "metadata": {},
   "outputs": [
    {
     "name": "stderr",
     "output_type": "stream",
     "text": [
      "W0714 11:20:15.601167 23568 deprecation_wrapper.py:119] From C:\\Users\\moona\\Anaconda3\\lib\\site-packages\\keras\\optimizers.py:790: The name tf.train.Optimizer is deprecated. Please use tf.compat.v1.train.Optimizer instead.\n",
      "\n",
      "W0714 11:20:15.619463 23568 deprecation_wrapper.py:119] From C:\\Users\\moona\\Anaconda3\\lib\\site-packages\\keras\\backend\\tensorflow_backend.py:3376: The name tf.log is deprecated. Please use tf.math.log instead.\n",
      "\n",
      "W0714 11:20:15.622763 23568 deprecation.py:323] From C:\\Users\\moona\\Anaconda3\\lib\\site-packages\\tensorflow\\python\\ops\\nn_impl.py:180: add_dispatch_support.<locals>.wrapper (from tensorflow.python.ops.array_ops) is deprecated and will be removed in a future version.\n",
      "Instructions for updating:\n",
      "Use tf.where in 2.0, which has the same broadcast rule as np.where\n"
     ]
    },
    {
     "name": "stdout",
     "output_type": "stream",
     "text": [
      "Train on 9900 samples, validate on 1100 samples\n",
      "Epoch 1/5\n",
      "9900/9900 [==============================] - 2s 191us/step - loss: 0.6935 - acc: 0.5304 - val_loss: 0.6923 - val_acc: 0.5091\n",
      "Epoch 2/5\n",
      "9900/9900 [==============================] - 1s 116us/step - loss: 0.6884 - acc: 0.5307 - val_loss: 0.7126 - val_acc: 0.5082\n",
      "Epoch 3/5\n",
      "9900/9900 [==============================] - 1s 112us/step - loss: 0.6687 - acc: 0.5676 - val_loss: 0.6776 - val_acc: 0.5495\n",
      "Epoch 4/5\n",
      "9900/9900 [==============================] - 1s 110us/step - loss: 0.6491 - acc: 0.6034 - val_loss: 0.6853 - val_acc: 0.5759\n",
      "Epoch 5/5\n",
      "9900/9900 [==============================] - 1s 106us/step - loss: 0.6255 - acc: 0.6472 - val_loss: 0.6632 - val_acc: 0.6100\n",
      "\n",
      "--- Learning curve of model training ---\n",
      "\n"
     ]
    },
    {
     "data": {
      "image/png": "[encoded data removed]",
      "text/plain": [
       "<Figure size 432x288 with 1 Axes>"
      ]
     },
     "metadata": {
      "needs_background": "light"
     },
     "output_type": "display_data"
    }
   ],
   "source": [
    "model.compile(loss='binary_crossentropy',\n",
    "                optimizer='adam', metrics=['accuracy'])\n",
    "\n",
    "BATCH_SIZE = 128\n",
    "EPOCHS = 5 # You can increase number of epoches and batch size\n",
    "\n",
    "history = model.fit(X_train,\n",
    "                      y_train,\n",
    "                      batch_size=BATCH_SIZE,\n",
    "                      epochs=EPOCHS,\n",
    "                      validation_split=0.1,\n",
    "                      verbose=1)\n",
    "print(\"\\n--- Learning curve of model training ---\\n\")\n",
    "\n",
    "# summarize history for accuracy and loss\n",
    "plt.figure(figsize=(6, 4))\n",
    "plt.plot(history.history['acc'], \"g--\", label=\"Accuracy of training data\")\n",
    "plt.plot(history.history['val_acc'], \"g\", label=\"Accuracy of validation data\")\n",
    "plt.plot(history.history['loss'], \"r--\", label=\"Loss of training data\")\n",
    "plt.plot(history.history['val_loss'], \"r\", label=\"Loss of validation data\")\n",
    "plt.title('Model Accuracy and Loss')\n",
    "plt.ylabel('Accuracy and Loss')\n",
    "plt.xlabel('Training Epoch')\n",
    "plt.ylim(0)\n",
    "plt.legend()\n",
    "plt.show()"
   ]
  },
  {
   "cell_type": "code",
   "execution_count": 21,
   "metadata": {},
   "outputs": [],
   "source": [
    "def show_confusion_matrix(validations, predictions):\n",
    "\n",
    "    matrix = metrics.confusion_matrix(validations, predictions)\n",
    "    plt.figure(figsize=(6, 4))\n",
    "    sns.heatmap(matrix,\n",
    "                cmap=\"coolwarm\",\n",
    "                linecolor='white',\n",
    "                linewidths=1,\n",
    "                xticklabels=LABELS,\n",
    "                yticklabels=LABELS,\n",
    "                annot=True,\n",
    "                fmt=\"d\")\n",
    "    plt.title(\"Confusion Matrix\")\n",
    "    plt.ylabel(\"True Label\")\n",
    "    plt.xlabel(\"Predicted Label\")\n",
    "    plt.show()"
   ]
  },
  {
   "cell_type": "code",
   "execution_count": 22,
   "metadata": {},
   "outputs": [
    {
     "name": "stdout",
     "output_type": "stream",
     "text": [
      "(3980, 2)\n"
     ]
    }
   ],
   "source": [
    "#print(y_test.shape)\n",
    "y_test = np_utils.to_categorical(y_test, num_classes)\n",
    "print(y_test.shape)"
   ]
  },
  {
   "cell_type": "code",
   "execution_count": 23,
   "metadata": {},
   "outputs": [
    {
     "name": "stdout",
     "output_type": "stream",
     "text": [
      "3980/3980 [==============================] - 0s 86us/step\n",
      "\n",
      "Accuracy on test data: 0.59\n",
      "\n",
      "Loss on test data: 0.68\n",
      "\n",
      "--- Confusion matrix for test data ---\n",
      "\n"
     ]
    },
    {
     "data": {
      "image/png": "[encoded data removed]",
      "text/plain": [
       "<Figure size 432x288 with 2 Axes>"
      ]
     },
     "metadata": {
      "needs_background": "light"
     },
     "output_type": "display_data"
    },
    {
     "name": "stdout",
     "output_type": "stream",
     "text": [
      "\n",
      "--- Classification report for test data ---\n",
      "\n",
      "              precision    recall  f1-score   support\n",
      "\n",
      "           0       0.59      0.54      0.57      1974\n",
      "           1       0.58      0.64      0.61      2006\n",
      "\n",
      "    accuracy                           0.59      3980\n",
      "   macro avg       0.59      0.59      0.59      3980\n",
      "weighted avg       0.59      0.59      0.59      3980\n",
      "\n"
     ]
    }
   ],
   "source": [
    "import seaborn as sns\n",
    "x_test = X_test.astype(\"float32\")\n",
    "y_test = y_test.astype(\"float32\")\n",
    "\n",
    "#y_test = np_utils.to_categorical(y_test, num_classes)\n",
    "\n",
    "score = model.evaluate(x_test, y_test, verbose=1)\n",
    "\n",
    "print(\"\\nAccuracy on test data: %0.2f\" % score[1])\n",
    "print(\"\\nLoss on test data: %0.2f\" % score[0])\n",
    "\n",
    "# %%\n",
    "\n",
    "print(\"\\n--- Confusion matrix for test data ---\\n\")\n",
    "\n",
    "y_pred_test = model.predict(x_test)\n",
    "# Take the class with the highest probability from the test predictions\n",
    "max_y_pred_test = np.argmax(y_pred_test, axis=1)\n",
    "max_y_test = np.argmax(y_test, axis=1)\n",
    "LABELS=[\"Normal\",\n",
    "          \"Speeling\"]\n",
    "show_confusion_matrix(max_y_test, max_y_pred_test)\n",
    "\n",
    "# %%\n",
    "\n",
    "print(\"\\n--- Classification report for test data ---\\n\")\n",
    "\n",
    "print(classification_report(max_y_test, max_y_pred_test))"
   ]
  },
  {
   "cell_type": "markdown",
   "metadata": {},
   "source": [
    "# GRU model for EEG classification"
   ]
  },
  {
   "cell_type": "code",
   "execution_count": 25,
   "metadata": {},
   "outputs": [],
   "source": [
    "from numpy import concatenate\n",
    "from matplotlib import pyplot\n",
    "from pandas import read_csv\n",
    "from pandas import DataFrame\n",
    "from pandas import concat\n",
    "from sklearn.preprocessing import MinMaxScaler\n",
    "from sklearn.preprocessing import LabelEncoder\n",
    "from sklearn.metrics import mean_squared_error\n",
    "from keras.models import Sequential\n",
    "from keras.layers import Dense\n",
    "from keras.layers import LSTM, Activation, Dropout, GRU\n",
    "import pandas as pd\n",
    "from sklearn import model_selection\n",
    "from sklearn.ensemble import BaggingClassifier\n",
    "from sklearn.tree import DecisionTreeClassifier\n",
    "from keras.optimizers import SGD\n",
    "import math"
   ]
  },
  {
   "cell_type": "code",
   "execution_count": 27,
   "metadata": {},
   "outputs": [],
   "source": [
    "# same dataset used in this model\n",
    "X_train = np.asarray(np.reshape(x_train, (x_train.shape[0], 14, 1)))\n",
    "X_test = np.asarray(np.reshape(x_test, (x_test.shape[0], 14, 1)))"
   ]
  },
  {
   "cell_type": "code",
   "execution_count": 31,
   "metadata": {},
   "outputs": [
    {
     "name": "stdout",
     "output_type": "stream",
     "text": [
      "<keras.engine.sequential.Sequential object at 0x00000246E1B8C1D0>\n",
      "_________________________________________________________________\n",
      "Layer (type)                 Output Shape              Param #   \n",
      "=================================================================\n",
      "gru_10 (GRU)                 (None, 14, 50)            7800      \n",
      "_________________________________________________________________\n",
      "dropout_11 (Dropout)         (None, 14, 50)            0         \n",
      "_________________________________________________________________\n",
      "gru_11 (GRU)                 (None, 14, 50)            15150     \n",
      "_________________________________________________________________\n",
      "dropout_12 (Dropout)         (None, 14, 50)            0         \n",
      "_________________________________________________________________\n",
      "gru_12 (GRU)                 (None, 14, 50)            15150     \n",
      "_________________________________________________________________\n",
      "dropout_13 (Dropout)         (None, 14, 50)            0         \n",
      "_________________________________________________________________\n",
      "gru_13 (GRU)                 (None, 50)                15150     \n",
      "_________________________________________________________________\n",
      "dropout_14 (Dropout)         (None, 50)                0         \n",
      "_________________________________________________________________\n",
      "dense_4 (Dense)              (None, 2)                 102       \n",
      "_________________________________________________________________\n",
      "activation_3 (Activation)    (None, 2)                 0         \n",
      "=================================================================\n",
      "Total params: 53,352\n",
      "Trainable params: 53,352\n",
      "Non-trainable params: 0\n",
      "_________________________________________________________________\n",
      "Train on 11000 samples, validate on 3980 samples\n",
      "Epoch 1/50\n",
      " - 9s - loss: 0.6931 - acc: 0.5133 - val_loss: 0.6975 - val_acc: 0.5040\n",
      "Epoch 2/50\n",
      " - 5s - loss: 0.6933 - acc: 0.5286 - val_loss: 0.6972 - val_acc: 0.5040\n",
      "Epoch 3/50\n",
      " - 5s - loss: 0.6932 - acc: 0.5286 - val_loss: 0.6972 - val_acc: 0.5040\n",
      "Epoch 4/50\n",
      " - 5s - loss: 0.6933 - acc: 0.5286 - val_loss: 0.6968 - val_acc: 0.5040\n",
      "Epoch 5/50\n",
      " - 5s - loss: 0.6931 - acc: 0.5286 - val_loss: 0.6968 - val_acc: 0.5040\n",
      "Epoch 6/50\n",
      " - 5s - loss: 0.6931 - acc: 0.5286 - val_loss: 0.6965 - val_acc: 0.5040\n",
      "Epoch 7/50\n",
      " - 5s - loss: 0.6931 - acc: 0.5286 - val_loss: 0.6965 - val_acc: 0.5040\n",
      "Epoch 8/50\n",
      " - 5s - loss: 0.6929 - acc: 0.5286 - val_loss: 0.6966 - val_acc: 0.5040\n",
      "Epoch 9/50\n",
      " - 5s - loss: 0.6930 - acc: 0.5286 - val_loss: 0.6964 - val_acc: 0.5040\n",
      "Epoch 10/50\n",
      " - 5s - loss: 0.6928 - acc: 0.5286 - val_loss: 0.6963 - val_acc: 0.5040\n",
      "Epoch 11/50\n",
      " - 5s - loss: 0.6928 - acc: 0.5286 - val_loss: 0.6962 - val_acc: 0.5040\n",
      "Epoch 12/50\n",
      " - 5s - loss: 0.6928 - acc: 0.5286 - val_loss: 0.6962 - val_acc: 0.5040\n",
      "Epoch 13/50\n",
      " - 5s - loss: 0.6928 - acc: 0.5286 - val_loss: 0.6962 - val_acc: 0.5040\n",
      "Epoch 14/50\n",
      " - 5s - loss: 0.6928 - acc: 0.5286 - val_loss: 0.6961 - val_acc: 0.5040\n",
      "Epoch 15/50\n",
      " - 5s - loss: 0.6927 - acc: 0.5286 - val_loss: 0.6961 - val_acc: 0.5040\n",
      "Epoch 16/50\n",
      " - 5s - loss: 0.6928 - acc: 0.5286 - val_loss: 0.6960 - val_acc: 0.5040\n",
      "Epoch 17/50\n",
      " - 5s - loss: 0.6927 - acc: 0.5286 - val_loss: 0.6959 - val_acc: 0.5040\n",
      "Epoch 18/50\n",
      " - 5s - loss: 0.6927 - acc: 0.5286 - val_loss: 0.6961 - val_acc: 0.5040\n",
      "Epoch 19/50\n",
      " - 4s - loss: 0.6927 - acc: 0.5286 - val_loss: 0.6959 - val_acc: 0.5040\n",
      "Epoch 20/50\n",
      " - 5s - loss: 0.6926 - acc: 0.5286 - val_loss: 0.6960 - val_acc: 0.5040\n",
      "Epoch 21/50\n",
      " - 5s - loss: 0.6927 - acc: 0.5286 - val_loss: 0.6958 - val_acc: 0.5040\n",
      "Epoch 22/50\n",
      " - 5s - loss: 0.6926 - acc: 0.5286 - val_loss: 0.6957 - val_acc: 0.5040\n",
      "Epoch 23/50\n",
      " - 5s - loss: 0.6926 - acc: 0.5286 - val_loss: 0.6958 - val_acc: 0.5040\n",
      "Epoch 24/50\n",
      " - 5s - loss: 0.6926 - acc: 0.5286 - val_loss: 0.6957 - val_acc: 0.5040\n",
      "Epoch 25/50\n",
      " - 5s - loss: 0.6926 - acc: 0.5286 - val_loss: 0.6957 - val_acc: 0.5040\n",
      "Epoch 26/50\n",
      " - 5s - loss: 0.6926 - acc: 0.5286 - val_loss: 0.6956 - val_acc: 0.5040\n",
      "Epoch 27/50\n",
      " - 5s - loss: 0.6925 - acc: 0.5286 - val_loss: 0.6958 - val_acc: 0.5040\n",
      "Epoch 28/50\n",
      " - 5s - loss: 0.6925 - acc: 0.5286 - val_loss: 0.6957 - val_acc: 0.5040\n",
      "Epoch 29/50\n",
      " - 5s - loss: 0.6925 - acc: 0.5286 - val_loss: 0.6957 - val_acc: 0.5040\n",
      "Epoch 30/50\n",
      " - 5s - loss: 0.6925 - acc: 0.5286 - val_loss: 0.6956 - val_acc: 0.5040\n",
      "Epoch 31/50\n",
      " - 5s - loss: 0.6925 - acc: 0.5286 - val_loss: 0.6956 - val_acc: 0.5040\n",
      "Epoch 32/50\n",
      " - 5s - loss: 0.6926 - acc: 0.5286 - val_loss: 0.6956 - val_acc: 0.5040\n",
      "Epoch 33/50\n",
      " - 5s - loss: 0.6924 - acc: 0.5286 - val_loss: 0.6956 - val_acc: 0.5040\n",
      "Epoch 34/50\n",
      " - 5s - loss: 0.6925 - acc: 0.5286 - val_loss: 0.6955 - val_acc: 0.5040\n",
      "Epoch 35/50\n",
      " - 5s - loss: 0.6924 - acc: 0.5286 - val_loss: 0.6956 - val_acc: 0.5040\n",
      "Epoch 36/50\n",
      " - 5s - loss: 0.6924 - acc: 0.5286 - val_loss: 0.6956 - val_acc: 0.5040\n",
      "Epoch 37/50\n",
      " - 5s - loss: 0.6924 - acc: 0.5286 - val_loss: 0.6956 - val_acc: 0.5040\n",
      "Epoch 38/50\n",
      " - 5s - loss: 0.6924 - acc: 0.5286 - val_loss: 0.6955 - val_acc: 0.5040\n",
      "Epoch 39/50\n",
      " - 5s - loss: 0.6924 - acc: 0.5286 - val_loss: 0.6955 - val_acc: 0.5040\n",
      "Epoch 40/50\n",
      " - 5s - loss: 0.6925 - acc: 0.5286 - val_loss: 0.6953 - val_acc: 0.5040\n",
      "Epoch 41/50\n",
      " - 5s - loss: 0.6924 - acc: 0.5286 - val_loss: 0.6954 - val_acc: 0.5040\n",
      "Epoch 42/50\n",
      " - 5s - loss: 0.6924 - acc: 0.5286 - val_loss: 0.6955 - val_acc: 0.5040\n",
      "Epoch 43/50\n",
      " - 5s - loss: 0.6924 - acc: 0.5286 - val_loss: 0.6955 - val_acc: 0.5040\n",
      "Epoch 44/50\n",
      " - 5s - loss: 0.6923 - acc: 0.5286 - val_loss: 0.6954 - val_acc: 0.5040\n",
      "Epoch 45/50\n",
      " - 5s - loss: 0.6924 - acc: 0.5286 - val_loss: 0.6954 - val_acc: 0.5040\n",
      "Epoch 46/50\n",
      " - 5s - loss: 0.6924 - acc: 0.5286 - val_loss: 0.6955 - val_acc: 0.5040\n",
      "Epoch 47/50\n",
      " - 5s - loss: 0.6923 - acc: 0.5286 - val_loss: 0.6954 - val_acc: 0.5040\n",
      "Epoch 48/50\n",
      " - 5s - loss: 0.6924 - acc: 0.5286 - val_loss: 0.6954 - val_acc: 0.5040\n",
      "Epoch 49/50\n",
      " - 5s - loss: 0.6924 - acc: 0.5286 - val_loss: 0.6954 - val_acc: 0.5040\n",
      "Epoch 50/50\n",
      " - 5s - loss: 0.6923 - acc: 0.5286 - val_loss: 0.6953 - val_acc: 0.5040\n"
     ]
    },
    {
     "data": {
      "image/png": "[encoded data removed]",
      "text/plain": [
       "<Figure size 432x288 with 1 Axes>"
      ]
     },
     "metadata": {
      "needs_background": "light"
     },
     "output_type": "display_data"
    }
   ],
   "source": [
    "# The GRU architecture\n",
    "modelGRU = Sequential()\n",
    "# First GRU layer with Dropout regularisation\n",
    "modelGRU.add(GRU(units=50, return_sequences=True, input_shape=(X_train.shape[1],X_train.shape[2]), activation='tanh'))\n",
    "#print(modelGRU.get_input_at())\n",
    "modelGRU.add(Dropout(0.2))\n",
    "print(modelGRU)\n",
    "# Second GRU layer\n",
    "modelGRU.add(GRU(units=50, return_sequences=True, input_shape=(X_train.shape[1],X_train.shape[2]), activation='tanh'))\n",
    "modelGRU.add(Dropout(0.2))\n",
    "# Third GRU layer\n",
    "modelGRU.add(GRU(units=50, return_sequences=True, input_shape=(X_train.shape[1],X_train.shape[2]), activation='tanh'))\n",
    "modelGRU.add(Dropout(0.2))\n",
    "# Fourth GRU layer\n",
    "modelGRU.add(GRU(units=50, activation='tanh'))\n",
    "modelGRU.add(Dropout(0.2))\n",
    "# The output layer\n",
    "modelGRU.add(Dense(units=2))\n",
    "modelGRU.add(Activation('sigmoid'))\n",
    "modelGRU.summary()\n",
    "# Compiling the RNN\n",
    "modelGRU.compile(optimizer=SGD(lr=0.01, decay=1e-7, momentum=0.9, nesterov=False),loss='binary_crossentropy',metrics=['accuracy'])\n",
    "# Fitting to the training set\n",
    "history=modelGRU.fit(X_train,y_train,epochs=50,batch_size=150,validation_data=(X_test, y_test), verbose=2, shuffle=False)\n",
    "#history=model2.fit(train_X,train_y,epochs=50,batch_size=32, validation_data=(test_X, test_y), verbose=2, shuffle=False)\n",
    "pyplot.plot(history.history['loss'], label='train')\n",
    "pyplot.plot(history.history['val_loss'], label='test')\n",
    "pyplot.legend()\n",
    "pyplot.show()\n"
   ]
  },
  {
   "cell_type": "code",
   "execution_count": 32,
   "metadata": {},
   "outputs": [
    {
     "name": "stdout",
     "output_type": "stream",
     "text": [
      "Accuracy: 50.40%\n"
     ]
    }
   ],
   "source": [
    "# evluation on the test set\n",
    "scores = modelGRU.evaluate(X_test, y_test, verbose=0)\n",
    "print(\"Accuracy: %.2f%%\" % (scores[1]*100))"
   ]
  },
  {
   "cell_type": "code",
   "execution_count": null,
   "metadata": {},
   "outputs": [],
   "source": []
  }
 ],
 "metadata": {
  "kernelspec": {
   "display_name": "Python 3",
   "language": "python",
   "name": "python3"
  },
  "language_info": {
   "codemirror_mode": {
    "name": "ipython",
    "version": 3
   },
   "file_extension": ".py",
   "mimetype": "text/x-python",
   "name": "python",
   "nbconvert_exporter": "python",
   "pygments_lexer": "ipython3",
   "version": "3.7.3"
  }
 },
 "nbformat": 4,
 "nbformat_minor": 2
}
